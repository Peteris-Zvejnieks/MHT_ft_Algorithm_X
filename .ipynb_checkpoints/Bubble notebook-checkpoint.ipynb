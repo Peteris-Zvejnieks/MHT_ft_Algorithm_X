{
 "cells": [
  {
   "cell_type": "markdown",
   "metadata": {},
   "source": [
    "## Imports and setup"
   ]
  },
  {
   "cell_type": "code",
   "execution_count": 1,
   "metadata": {},
   "outputs": [],
   "source": [
    "import matplotlib.pyplot as plt\n",
    "import numpy as np\n",
    "\n",
    "from stat_funcs import movement_likelihood_func, new_or_gone_likelihood_func_Y, multi_bubble_likelihood_func\n",
    "from associator import Associator, asc_condition, comb_constr\n",
    "from optimizer import optimizer\n",
    "from trajectories import node_trajectory_with_stats\n",
    "from tracer import Tracer\n",
    "\n",
    "import glob\n",
    "import os\n",
    "\n",
    "plt.rcParams['figure.dpi'] = 500\n",
    "np.set_printoptions(suppress=True)"
   ]
  },
  {
   "cell_type": "markdown",
   "metadata": {},
   "source": [
    "## Locating all sequences"
   ]
  },
  {
   "cell_type": "code",
   "execution_count": 2,
   "metadata": {},
   "outputs": [
    {
     "name": "stdout",
     "output_type": "stream",
     "text": [
      "0 : .\\Area_Output - 120 1.0 T\n",
      "1 : .\\Area_Output - 120 1.4 T\n",
      "2 : .\\Area_Output - 2D Laminar Field OFF 2D_lm_animation_noField_100\n",
      "3 : .\\Area_Output - 2D Laminar Field OFF 2D_lm_animation_noField_120\n",
      "4 : .\\Empty_directory_tree\n",
      "5 : .\\Field OFF 100 sccm Round I\n",
      "6 : .\\NEUTRONS Field OFF 100 sccm\n",
      "7 : .\\NEUTRONS Field OFF 160 sccm\n",
      "8 : .\\NEUTRONS Field ON 100 sccm\n",
      "9 : .\\NEUTRONS Field ON 160 sccm\n",
      "10 : .\\Particles\n",
      "11 : .\\Round I Field OFF 140 sccm\n",
      "12 : .\\Round I Field OFF 160 sccm v2\n",
      "13 : .\\Round I Field ON 100 sccm\n",
      "14 : .\\Round III Field OFF 120 sccm\n",
      "15 : .\\Round III Field OFF 120 sccm v2\n",
      "16 : .\\Round III HFS 125 mT 120 sccm\n",
      "17 : .\\Round III VFS 125 mT 120 sccm\n",
      "18 : .\\desktop.ini\n"
     ]
    }
   ],
   "source": [
    "Drive = 'C:\\\\'\n",
    "W_dir = Drive + os.path.join(*(os.getcwd().split('\\\\')[1:-1] + ['Objects']))\n",
    "os.chdir(W_dir)\n",
    "main_dirs = sorted(glob.glob('./*'))\n",
    "for i, x in enumerate(main_dirs): print(i, ':',x)"
   ]
  },
  {
   "cell_type": "markdown",
   "metadata": {},
   "source": [
    "## Selecting a sequence"
   ]
  },
  {
   "cell_type": "code",
   "execution_count": 3,
   "metadata": {},
   "outputs": [
    {
     "name": "stdout",
     "output_type": "stream",
     "text": [
      ".\\Area_Output - 2D Laminar Field OFF 2D_lm_animation_noField_100\\Front View\n"
     ]
    }
   ],
   "source": [
    "I = 2\n",
    "J = 0\n",
    "\n",
    "Main_dir = main_dirs[I]\n",
    "sub_dirs = glob.glob(Main_dir + '/*')\n",
    "try: sub_dirs.remove(*glob.glob(Main_dir + '/**.ini'))\n",
    "except: pass\n",
    "Sub_dir  = sub_dirs[J]\n",
    "print(Sub_dir)"
   ]
  },
  {
   "cell_type": "markdown",
   "metadata": {},
   "source": [
    "## Statistical function setup"
   ]
  },
  {
   "cell_type": "code",
   "execution_count": 4,
   "metadata": {},
   "outputs": [],
   "source": [
    "Sig_displacement1 = 50\n",
    "K1       = 0.1\n",
    "Move   = movement_likelihood_func(Sig_displacement1, K1)\n",
    "\n",
    "A = 0.1\n",
    "Boundary= 20\n",
    "Height  = 1208\n",
    "New    = new_or_gone_likelihood_func_Y(A, Boundary, 1)\n",
    "Gone   = new_or_gone_likelihood_func_Y(-A, Height - Boundary, 0)\n",
    "\n",
    "Sig_displacement2 = 100\n",
    "K2 = 0.01\n",
    "\n",
    "Merge  = multi_bubble_likelihood_func(Sig_displacement2, K2, 0)\n",
    "Split  = multi_bubble_likelihood_func(Sig_displacement2, K2, 1)\n",
    "\n",
    "Stat_funcs = [Move, New, Gone, Merge, Split]\n",
    "Optimizer     = optimizer(Stat_funcs)"
   ]
  },
  {
   "cell_type": "markdown",
   "metadata": {},
   "source": [
    "## Associator setup"
   ]
  },
  {
   "cell_type": "code",
   "execution_count": 5,
   "metadata": {},
   "outputs": [],
   "source": [
    "Max_displacement_per_frame = 300\n",
    "Radius_multiplyer = 8\n",
    "Min_displacement  = 50\n",
    "Asc_condition  = asc_condition(Max_displacement_per_frame, Radius_multiplyer, Min_displacement)\n",
    "\n",
    "Upsilon = 0.5\n",
    "Mu_v = 200\n",
    "Max_acc = 10000\n",
    "Comb_constr = comb_constr(Upsilon, Mu_v, Max_acc)\n",
    "\n",
    "ASSociator = Associator(Asc_condition, Comb_constr)"
   ]
  },
  {
   "cell_type": "code",
   "execution_count": 6,
   "metadata": {},
   "outputs": [],
   "source": [
    "#@title Trajectory setup\n",
    "\n",
    "mu_V       = 30 #@param {type:\"slider\", min:0, max:100}\n",
    "sig_V      = 20 #@param {type:\"slider\", min:0, max:100}\n",
    "r_sig_S    = 0.2 #@param {type:\"slider\", min:0.01, max:1.5, step:0.01}\n",
    "node_trajectory = node_trajectory_with_stats(mu_V, sig_V, r_sig_S)"
   ]
  },
  {
   "cell_type": "markdown",
   "metadata": {},
   "source": [
    "## Tracing"
   ]
  },
  {
   "cell_type": "code",
   "execution_count": 7,
   "metadata": {
    "scrolled": true
   },
   "outputs": [
    {
     "name": "stderr",
     "output_type": "stream",
     "text": [
      "Window width - 1: 100%|██████████████████████████████████████████████████████████████| 181/181 [00:04<00:00, 42.16it/s]\n",
      "Window width - 1:  10%|██████▌                                                        | 19/181 [00:00<00:01, 89.68it/s]"
     ]
    },
    {
     "name": "stdout",
     "output_type": "stream",
     "text": [
      "Trajectory count :32\n"
     ]
    },
    {
     "name": "stderr",
     "output_type": "stream",
     "text": [
      "Window width - 1: 100%|██████████████████████████████████████████████████████████████| 181/181 [00:02<00:00, 80.79it/s]\n",
      "Window width - 2:   4%|██▊                                                             | 8/181 [00:00<00:02, 70.13it/s]"
     ]
    },
    {
     "name": "stdout",
     "output_type": "stream",
     "text": [
      "Trajectory count :46\n"
     ]
    },
    {
     "name": "stderr",
     "output_type": "stream",
     "text": [
      "Window width - 2: 100%|██████████████████████████████████████████████████████████████| 181/181 [00:02<00:00, 79.72it/s]"
     ]
    },
    {
     "name": "stdout",
     "output_type": "stream",
     "text": [
      "Trajectory count :45\n"
     ]
    },
    {
     "name": "stderr",
     "output_type": "stream",
     "text": [
      "\n"
     ]
    }
   ],
   "source": [
    "Max_occlusion = 2\n",
    "Quantile = 0.1\n",
    "tracer = Tracer(ASSociator, Optimizer, node_trajectory, Max_occlusion, Quantile, Sub_dir)"
   ]
  },
  {
   "cell_type": "markdown",
   "metadata": {},
   "source": [
    "## Data dumping"
   ]
  },
  {
   "cell_type": "code",
   "execution_count": 8,
   "metadata": {},
   "outputs": [
    {
     "name": "stderr",
     "output_type": "stream",
     "text": [
      "Loading images : 100%|███████████████████████████████████████████████████████████████| 201/201 [00:07<00:00, 26.16it/s]\n",
      "Drawing trajectories : 45it [00:01, 39.99it/s]\n",
      "Saving: trajectories: 45it [00:00, 152.61it/s]\n",
      "Drawing families : 43it [00:01, 38.41it/s]\n",
      "Saving: families: 43it [00:00, 136.08it/s]\n",
      "Drawing ID history : 45it [00:00, 1037.60it/s]\n",
      "Saving: tracedIDs: 201it [00:01, 126.13it/s]\n",
      "Drawing velocity history : 45it [00:00, 527.38it/s]\n",
      "Saving: traced_velocities: 201it [00:02, 93.44it/s] \n"
     ]
    }
   ],
   "source": [
    "Indx = 10\n",
    "Prepend = 'test_%i_'%Indx\n",
    "tracer.dump_data('/'+Prepend+str(Max_occlusion), 15, 1)"
   ]
  },
  {
   "cell_type": "code",
   "execution_count": null,
   "metadata": {},
   "outputs": [],
   "source": []
  }
 ],
 "metadata": {
  "kernelspec": {
   "display_name": "Python 3",
   "language": "python",
   "name": "python3"
  },
  "language_info": {
   "codemirror_mode": {
    "name": "ipython",
    "version": 3
   },
   "file_extension": ".py",
   "mimetype": "text/x-python",
   "name": "python",
   "nbconvert_exporter": "python",
   "pygments_lexer": "ipython3",
   "version": "3.8.3"
  },
  "latex_envs": {
   "LaTeX_envs_menu_present": true,
   "autoclose": false,
   "autocomplete": true,
   "bibliofile": "biblio.bib",
   "cite_by": "apalike",
   "current_citInitial": 1,
   "eqLabelWithNumbers": true,
   "eqNumInitial": 1,
   "hotkeys": {
    "equation": "Ctrl-E",
    "itemize": "Ctrl-I"
   },
   "labels_anchors": false,
   "latex_user_defs": false,
   "report_style_numbering": false,
   "user_envs_cfg": false
  }
 },
 "nbformat": 4,
 "nbformat_minor": 4
}
