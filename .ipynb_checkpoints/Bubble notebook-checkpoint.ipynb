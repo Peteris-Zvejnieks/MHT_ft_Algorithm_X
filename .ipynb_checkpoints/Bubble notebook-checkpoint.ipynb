{
 "cells": [
  {
   "cell_type": "markdown",
   "metadata": {},
   "source": [
    "## Imports and setup"
   ]
  },
  {
   "cell_type": "code",
   "execution_count": null,
   "metadata": {},
   "outputs": [],
   "source": [
    "import matplotlib.pyplot as plt\n",
    "import numpy as np\n",
    "\n",
    "from stat_funcs_bubbles import movement_likelihood_func, new_or_gone_likelihood_func, multi_bubble_likelihood_func\n",
    "from associator import Associator, asc_condition, comb_constr\n",
    "from optimizer import optimizer\n",
    "from trajectories import trajectory_stats_v1\n",
    "from tracer import Tracer\n",
    "\n",
    "import glob\n",
    "import os\n",
    "\n",
    "plt.rcParams['figure.dpi'] = 500\n",
    "np.set_printoptions(suppress=True)"
   ]
  },
  {
   "cell_type": "markdown",
   "metadata": {},
   "source": [
    "## Locating all sequences"
   ]
  },
  {
   "cell_type": "code",
   "execution_count": null,
   "metadata": {},
   "outputs": [],
   "source": [
    "Drive = 'C:\\\\'\n",
    "W_dir = Drive + os.path.join(*(os.getcwd().split('\\\\')[1:-1] + ['Objects']))\n",
    "os.chdir(W_dir)\n",
    "main_dirs = sorted(glob.glob('./*'))"
   ]
  },
  {
   "cell_type": "markdown",
   "metadata": {},
   "source": [
    "## Selecting a sequence"
   ]
  },
  {
   "cell_type": "code",
   "execution_count": null,
   "metadata": {},
   "outputs": [],
   "source": [
    "I = 17\n",
    "J = 0\n",
    "\n",
    "Main_dir = main_dirs[I]\n",
    "sub_dirs = glob.glob(Main_dir + '/*')\n",
    "try: sub_dirs.remove(*glob.glob(Main_dir + '/**.ini'))\n",
    "except: pass\n",
    "Sub_dir  = sub_dirs[J]\n",
    "print(Sub_dir)"
   ]
  },
  {
   "cell_type": "markdown",
   "metadata": {},
   "source": [
    "## Statistical function setup"
   ]
  },
  {
   "cell_type": "code",
   "execution_count": null,
   "metadata": {},
   "outputs": [],
   "source": [
    "Sig_displacement1 = 100\n",
    "K1       = 0.6\n",
    "Move   = movement_likelihood_func(Sig_displacement1, K1)\n",
    "\n",
    "A = 0.1\n",
    "Boundary= 35\n",
    "Height  = 918\n",
    "New    = new_or_gone_likelihood_func(A, Boundary, 1)\n",
    "Gone   = new_or_gone_likelihood_func(-A, Height - Boundary, 0)\n",
    "\n",
    "Sig_displacement2 = 40\n",
    "K2 = 0.6\n",
    "\n",
    "Merge  = multi_bubble_likelihood_func(Sig_displacement2, K2, 0)\n",
    "Split  = multi_bubble_likelihood_func(Sig_displacement2, K2, 1)\n",
    "\n",
    "Stat_funcs = [Move, New, Gone, Merge, Split]\n",
    "Optimizer     = optimizer(Stat_funcs)\n",
    "\n",
    "Trajectory_stats = trajectory_stats_v1(60, 30, 0.4)"
   ]
  },
  {
   "cell_type": "markdown",
   "metadata": {},
   "source": [
    "## Associator setup"
   ]
  },
  {
   "cell_type": "code",
   "execution_count": null,
   "metadata": {},
   "outputs": [],
   "source": [
    "Max_displacement_per_frame = 300\n",
    "Radius_multiplyer = 3\n",
    "Min_displacement  = 30\n",
    "Asc_condition  = asc_condition(Max_displacement_per_frame, Radius_multiplyer, Min_displacement)\n",
    "\n",
    "Upsilon = 1.7\n",
    "Mu_v = 100000000\n",
    "Max_acc = 100\n",
    "\n",
    "Comb_constr = comb_constr(Upsilon, Mu_v, Max_acc)\n",
    "ASSociator = Associator(Asc_condition, Comb_constr)\n"
   ]
  },
  {
   "cell_type": "markdown",
   "metadata": {},
   "source": [
    "## Tracing"
   ]
  },
  {
   "cell_type": "code",
   "execution_count": null,
   "metadata": {},
   "outputs": [],
   "source": [
    "Max_occlusion = 3\n",
    "Quantile = 0.1\n",
    "tracer = Tracer(ASSociator, Optimizer, Trajectory_stats, Max_occlusion, Quantile, Sub_dir)"
   ]
  },
  {
   "cell_type": "markdown",
   "metadata": {},
   "source": [
    "## Data dumping"
   ]
  },
  {
   "cell_type": "code",
   "execution_count": null,
   "metadata": {},
   "outputs": [],
   "source": [
    "Indx = 1\n",
    "Prepend = 'test_%i_'%Indx\n",
    "tracer.dump_data('/'+Prepend+str(Max_occlusion), False)"
   ]
  }
 ],
 "metadata": {
  "kernelspec": {
   "display_name": "Python 3",
   "language": "python",
   "name": "python3"
  },
  "language_info": {
   "codemirror_mode": {
    "name": "ipython",
    "version": 3
   },
   "file_extension": ".py",
   "mimetype": "text/x-python",
   "name": "python",
   "nbconvert_exporter": "python",
   "pygments_lexer": "ipython3",
   "version": "3.8.3"
  }
 },
 "nbformat": 4,
 "nbformat_minor": 4
}
