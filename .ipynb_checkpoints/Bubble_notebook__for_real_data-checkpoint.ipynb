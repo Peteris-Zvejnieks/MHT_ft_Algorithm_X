{
 "cells": [
  {
   "cell_type": "markdown",
   "metadata": {
    "id": "dQXls1yxMEtJ"
   },
   "source": [
    "## Imports and setup"
   ]
  },
  {
   "cell_type": "code",
   "execution_count": 3,
   "metadata": {
    "id": "lBE5GBf2MEtL"
   },
   "outputs": [],
   "source": [
    "import matplotlib.pyplot as plt\n",
    "import numpy as np\n",
    "\n",
    "from stat_funcs import movement_likelihood_func, new_or_gone_likelihood_func_Y, multi_bubble_likelihood_func\n",
    "from associator import Associator, asc_condition, comb_constr\n",
    "from trajectories import node_trajectory_with_stats\n",
    "from optimizer import optimizer\n",
    "from tracer import Tracer\n",
    "\n",
    "import glob\n",
    "import os\n",
    "\n",
    "plt.rcParams['figure.dpi'] = 500\n",
    "np.set_printoptions(suppress=True)"
   ]
  },
  {
   "cell_type": "markdown",
   "metadata": {
    "id": "mURywAmMMEtU"
   },
   "source": [
    "## Locating all sequences"
   ]
  },
  {
   "cell_type": "code",
   "execution_count": 4,
   "metadata": {
    "colab": {
     "base_uri": "https://localhost:8080/"
    },
    "id": "8FFzwhveMEtY",
    "outputId": "8702b38e-fdbf-4e90-93a4-beff99d21d96"
   },
   "outputs": [
    {
     "name": "stdout",
     "output_type": "stream",
     "text": [
      "0 : .\\Area_Output - 120 1.0 T\n",
      "1 : .\\Area_Output - 120 1.4 T\n",
      "2 : .\\Area_Output - 2D Laminar Field OFF 2D_lm_animation_noField_100\n",
      "3 : .\\Area_Output - 2D Laminar Field OFF 2D_lm_animation_noField_120\n",
      "4 : .\\Empty_directory_tree\n",
      "5 : .\\Field OFF 100 sccm Round I\n",
      "6 : .\\NEUTRONS Field OFF 100 sccm\n",
      "7 : .\\NEUTRONS Field OFF 160 sccm\n",
      "8 : .\\NEUTRONS Field ON 100 sccm\n",
      "9 : .\\NEUTRONS Field ON 160 sccm\n",
      "10 : .\\Particles\n",
      "11 : .\\Round I Field OFF 140 sccm\n",
      "12 : .\\Round I Field OFF 160 sccm v2\n",
      "13 : .\\Round I Field ON 100 sccm\n",
      "14 : .\\Round III Field OFF 120 sccm\n",
      "15 : .\\Round III Field OFF 120 sccm v2\n",
      "16 : .\\Round III HFS 125 mT 120 sccm\n",
      "17 : .\\Round III VFS 125 mT 120 sccm\n",
      "18 : .\\desktop.ini\n"
     ]
    }
   ],
   "source": [
    "Drive = 'C:\\\\'\n",
    "W_dir = Drive + os.path.join(*(os.getcwd().split('\\\\')[1:-1] + ['Objects']))\n",
    "os.chdir(W_dir)\n",
    "main_dirs = sorted(glob.glob('./*'))\n",
    "for i, x in enumerate(main_dirs): print(i, ':',x)"
   ]
  },
  {
   "cell_type": "markdown",
   "metadata": {
    "id": "n8ykt_ffMEtg"
   },
   "source": [
    "## Selecting a sequence"
   ]
  },
  {
   "cell_type": "code",
   "execution_count": 5,
   "metadata": {
    "colab": {
     "base_uri": "https://localhost:8080/",
     "height": 35
    },
    "id": "IZo-bEYFMEti",
    "outputId": "727301f3-b416-407b-bb2a-42bc8ca760de"
   },
   "outputs": [
    {
     "name": "stdout",
     "output_type": "stream",
     "text": [
      ".\\Round III VFS 125 mT 120 sccm\\Front view\n"
     ]
    }
   ],
   "source": [
    "I = 17\n",
    "J = 0\n",
    "\n",
    "Main_dir = main_dirs[I]\n",
    "sub_dirs = glob.glob(Main_dir + '/*')\n",
    "try: sub_dirs.remove(*glob.glob(Main_dir + '/**.ini'))\n",
    "except: pass\n",
    "Sub_dir  = sub_dirs[J]\n",
    "print(Sub_dir)"
   ]
  },
  {
   "cell_type": "code",
   "execution_count": 6,
   "metadata": {
    "cellView": "form",
    "id": "Wa7EYJLZCEPL"
   },
   "outputs": [],
   "source": [
    "#@title Statistical function setup\n",
    "\n",
    "Sig_displacement1   = 50  #@param {type: \"slider\", min: 10, max: 100}\n",
    "K1                  = 0.6 #@param {type:\"slider\", min:0, max:1, step:0.01}\n",
    "Move   = movement_likelihood_func(Sig_displacement1, K1)\n",
    "\n",
    "A                   = 0.1 #@param {type:\"slider\", min:0.01, max:0.5, step:0.01}\n",
    "Boundary            = 20 #@param {type:\"slider\", min:0, max:50}\n",
    "Height              = 919 #@param {type:\"slider\", min:0, max:1500}\n",
    "New    = new_or_gone_likelihood_func_Y(A, Boundary, 1)\n",
    "Gone   = new_or_gone_likelihood_func_Y(-A, Height - Boundary, 0)\n",
    "\n",
    "Sig_displacement2   = 64 #@param {type:\"slider\", min:0, max:150}\n",
    "K2                  = 0.5 #@param {type:\"slider\", min:0, max:1, step:0.01}\n",
    "Merge  = multi_bubble_likelihood_func(Sig_displacement2, K2, 0)\n",
    "Split  = multi_bubble_likelihood_func(Sig_displacement2, K2, 1)\n",
    "\n",
    "Optimizer     = optimizer([Move, New, Gone, Merge, Split])"
   ]
  },
  {
   "cell_type": "markdown",
   "metadata": {
    "id": "KuiJocrhMEtv"
   },
   "source": [
    "## Associator setup"
   ]
  },
  {
   "cell_type": "code",
   "execution_count": 7,
   "metadata": {
    "cellView": "form",
    "id": "CljUpU70Feza"
   },
   "outputs": [],
   "source": [
    "#@title Associator setup\n",
    "\n",
    "Max_displacement_per_frame  = 300  #@param {type: \"slider\", min: 10, max: 500}\n",
    "Radius_multiplyer           = 3 #@param {type:\"slider\", min:1, max:10}\n",
    "Min_displacement            = 30 #@param {type:\"slider\", min:0, max:100}\n",
    "Asc_condition  = asc_condition(Max_displacement_per_frame, Radius_multiplyer, Min_displacement)\n",
    "\n",
    "Upsilon                     = 1.5 #@param {type:\"slider\", min:0.01, max:1.5, step:0.01}\n",
    "Mu_v                        = 86 #@param {type:\"slider\", min:0, max:300}\n",
    "Max_acc                     = 132 #@param {type:\"slider\", min:0, max:300}\n",
    "Comb_constr = comb_constr(Upsilon, Mu_v, Max_acc)\n",
    "\n",
    "ASSociator = Associator(Asc_condition, Comb_constr)"
   ]
  },
  {
   "cell_type": "code",
   "execution_count": 8,
   "metadata": {
    "cellView": "form",
    "id": "-hoe0plcb9wV"
   },
   "outputs": [],
   "source": [
    "#@title Trajectory setup\n",
    "\n",
    "mu_V       = 60 #@param {type:\"slider\", min:0, max:100}\n",
    "sig_V      = 30 #@param {type:\"slider\", min:0, max:100}\n",
    "r_sig_S    = 0.4 #@param {type:\"slider\", min:0.01, max:1.5, step:0.01}\n",
    "node_trajectory = node_trajectory_with_stats(mu_V, sig_V, r_sig_S)"
   ]
  },
  {
   "cell_type": "markdown",
   "metadata": {
    "id": "W-r2RPM-MEt3"
   },
   "source": [
    "## Tracing"
   ]
  },
  {
   "cell_type": "code",
   "execution_count": null,
   "metadata": {
    "colab": {
     "base_uri": "https://localhost:8080/",
     "height": 127
    },
    "id": "uTzkPh7wMEt3",
    "outputId": "a98c3b6a-84b6-47ee-daeb-9fdae065f71d",
    "scrolled": true
   },
   "outputs": [
    {
     "name": "stderr",
     "output_type": "stream",
     "text": [
      "Window width- 1:  33%|████████████████████▎                                         | 980/2999 [01:11<02:28, 13.63it/s]"
     ]
    }
   ],
   "source": [
    "Max_occlusion = 3\n",
    "Quantile = 0.1\n",
    "tracer = Tracer(ASSociator, Optimizer, node_trajectory, Max_occlusion, Quantile, Sub_dir)"
   ]
  },
  {
   "cell_type": "markdown",
   "metadata": {
    "id": "A10VniSBMEt6"
   },
   "source": [
    "## Data dumping"
   ]
  },
  {
   "cell_type": "code",
   "execution_count": null,
   "metadata": {
    "colab": {
     "base_uri": "https://localhost:8080/",
     "height": 613
    },
    "id": "KZizCEpKMEt7",
    "outputId": "a7a6a183-9f84-438d-d665-e8d7eaf3f570"
   },
   "outputs": [
    {
     "name": "stderr",
     "output_type": "stream",
     "text": [
      "Loading images : 100%|█████████████████████████████████████████████████████████████| 3000/3000 [01:03<00:00, 47.09it/s]\n"
     ]
    },
    {
     "ename": "IndexError",
     "evalue": "ignored",
     "output_type": "error",
     "traceback": [
      "\u001b[1;31m---------------------------------------------------------------------------\u001b[0m",
      "\u001b[1;31mIndexError\u001b[0m                                Traceback (most recent call last)",
      "\u001b[1;32m<ipython-input-29-ec276004b4fa>\u001b[0m in \u001b[0;36m<module>\u001b[1;34m\u001b[0m\n\u001b[0;32m      5\u001b[0m \u001b[0mMin_trajctory_lenght\u001b[0m \u001b[1;33m=\u001b[0m \u001b[1;36m1\u001b[0m\u001b[1;33m\u001b[0m\u001b[1;33m\u001b[0m\u001b[0m\n\u001b[0;32m      6\u001b[0m \u001b[1;33m\u001b[0m\u001b[0m\n\u001b[1;32m----> 7\u001b[1;33m \u001b[0mtracer\u001b[0m\u001b[1;33m.\u001b[0m\u001b[0mdump_data\u001b[0m\u001b[1;33m(\u001b[0m\u001b[0mDump_site\u001b[0m\u001b[1;33m,\u001b[0m \u001b[0mMemory\u001b[0m\u001b[1;33m,\u001b[0m \u001b[0mMin_trajctory_lenght\u001b[0m\u001b[1;33m)\u001b[0m\u001b[1;33m\u001b[0m\u001b[1;33m\u001b[0m\u001b[0m\n\u001b[0m",
      "\u001b[1;32m~\\Documents\\Work\\Work Drive\\MHT_ft_Algorithm_X\\tracer.py\u001b[0m in \u001b[0;36mdump_data\u001b[1;34m(self, sub_folder, memory, smallest_trajectories)\u001b[0m\n\u001b[0;32m    134\u001b[0m                 \u001b[0mimageio\u001b[0m\u001b[1;33m.\u001b[0m\u001b[0mimwrite\u001b[0m\u001b[1;33m(\u001b[0m\u001b[0mpath\u001b[0m\u001b[1;33m+\u001b[0m\u001b[1;34m'/%i.jpg'\u001b[0m\u001b[1;33m%\u001b[0m\u001b[0mi\u001b[0m\u001b[1;33m,\u001b[0m \u001b[0mx\u001b[0m\u001b[1;33m)\u001b[0m\u001b[1;33m\u001b[0m\u001b[1;33m\u001b[0m\u001b[0m\n\u001b[0;32m    135\u001b[0m \u001b[1;33m\u001b[0m\u001b[0m\n\u001b[1;32m--> 136\u001b[1;33m         \u001b[0msave_func\u001b[0m\u001b[1;33m(\u001b[0m\u001b[0moutput_path\u001b[0m \u001b[1;33m+\u001b[0m \u001b[1;34m'/families'\u001b[0m\u001b[1;33m,\u001b[0m          \u001b[0mVis\u001b[0m\u001b[1;33m.\u001b[0m\u001b[0mShowFamilies\u001b[0m\u001b[1;33m(\u001b[0m\u001b[1;34m'likelihood'\u001b[0m\u001b[1;33m)\u001b[0m\u001b[1;33m)\u001b[0m\u001b[1;33m\u001b[0m\u001b[1;33m\u001b[0m\u001b[0m\n\u001b[0m\u001b[0;32m    137\u001b[0m         \u001b[0msave_func\u001b[0m\u001b[1;33m(\u001b[0m\u001b[0moutput_path\u001b[0m \u001b[1;33m+\u001b[0m \u001b[1;34m'/tracedIDs'\u001b[0m\u001b[1;33m,\u001b[0m         \u001b[0mVis\u001b[0m\u001b[1;33m.\u001b[0m\u001b[0mShowHistory\u001b[0m\u001b[1;33m(\u001b[0m\u001b[0mmemory\u001b[0m\u001b[1;33m,\u001b[0m \u001b[0msmallest_trajectories\u001b[0m\u001b[1;33m,\u001b[0m \u001b[1;34m'ID'\u001b[0m\u001b[1;33m)\u001b[0m\u001b[1;33m)\u001b[0m\u001b[1;33m\u001b[0m\u001b[1;33m\u001b[0m\u001b[0m\n\u001b[0;32m    138\u001b[0m         \u001b[0msave_func\u001b[0m\u001b[1;33m(\u001b[0m\u001b[0moutput_path\u001b[0m \u001b[1;33m+\u001b[0m \u001b[1;34m'/traced_velocities'\u001b[0m\u001b[1;33m,\u001b[0m \u001b[0mVis\u001b[0m\u001b[1;33m.\u001b[0m\u001b[0mShowHistory\u001b[0m\u001b[1;33m(\u001b[0m\u001b[0mmemory\u001b[0m\u001b[1;33m,\u001b[0m \u001b[0msmallest_trajectories\u001b[0m\u001b[1;33m,\u001b[0m \u001b[1;34m'velocities'\u001b[0m\u001b[1;33m)\u001b[0m\u001b[1;33m)\u001b[0m\u001b[1;33m\u001b[0m\u001b[1;33m\u001b[0m\u001b[0m\n",
      "\u001b[1;32m~\\Documents\\Work\\Work Drive\\MHT_ft_Algorithm_X\\visualizerV2.py\u001b[0m in \u001b[0;36mShowFamilies\u001b[1;34m(self, key)\u001b[0m\n\u001b[0;32m    100\u001b[0m     \u001b[1;32mdef\u001b[0m \u001b[0mShowFamilies\u001b[0m\u001b[1;33m(\u001b[0m\u001b[0mself\u001b[0m\u001b[1;33m,\u001b[0m \u001b[0mkey\u001b[0m \u001b[1;33m=\u001b[0m \u001b[1;34m'likelihood'\u001b[0m\u001b[1;33m)\u001b[0m\u001b[1;33m:\u001b[0m\u001b[1;33m\u001b[0m\u001b[1;33m\u001b[0m\u001b[0m\n\u001b[0;32m    101\u001b[0m         \u001b[0mcmap\u001b[0m \u001b[1;33m=\u001b[0m \u001b[0mcm\u001b[0m\u001b[1;33m.\u001b[0m\u001b[0mplasma\u001b[0m\u001b[1;33m\u001b[0m\u001b[1;33m\u001b[0m\u001b[0m\n\u001b[1;32m--> 102\u001b[1;33m         \u001b[0mcolor_bar_gen\u001b[0m \u001b[1;33m=\u001b[0m \u001b[0mColorbar_overlay\u001b[0m\u001b[1;33m(\u001b[0m\u001b[0mcmap\u001b[0m\u001b[1;33m,\u001b[0m \u001b[0mself\u001b[0m\u001b[1;33m.\u001b[0m\u001b[0mshape\u001b[0m\u001b[1;33m)\u001b[0m\u001b[1;33m\u001b[0m\u001b[1;33m\u001b[0m\u001b[0m\n\u001b[0m\u001b[0;32m    103\u001b[0m         \u001b[0mfamilies\u001b[0m \u001b[1;33m=\u001b[0m \u001b[0mself\u001b[0m\u001b[1;33m.\u001b[0m\u001b[0minterpretation\u001b[0m\u001b[1;33m.\u001b[0m\u001b[0mfamilies\u001b[0m\u001b[1;33m\u001b[0m\u001b[1;33m\u001b[0m\u001b[0m\n\u001b[0;32m    104\u001b[0m         \u001b[0mfamily_photos\u001b[0m \u001b[1;33m=\u001b[0m \u001b[0mnp\u001b[0m\u001b[1;33m.\u001b[0m\u001b[0mzeros\u001b[0m\u001b[1;33m(\u001b[0m\u001b[1;33m(\u001b[0m\u001b[0mlen\u001b[0m\u001b[1;33m(\u001b[0m\u001b[0mfamilies\u001b[0m\u001b[1;33m)\u001b[0m\u001b[1;33m,\u001b[0m\u001b[1;33m)\u001b[0m \u001b[1;33m+\u001b[0m \u001b[0mself\u001b[0m\u001b[1;33m.\u001b[0m\u001b[0mshape\u001b[0m\u001b[1;33m,\u001b[0m \u001b[0mdtype\u001b[0m \u001b[1;33m=\u001b[0m \u001b[0mnp\u001b[0m\u001b[1;33m.\u001b[0m\u001b[0muint8\u001b[0m\u001b[1;33m)\u001b[0m\u001b[1;33m\u001b[0m\u001b[1;33m\u001b[0m\u001b[0m\n",
      "\u001b[1;32m~\\Documents\\Work\\Work Drive\\MHT_ft_Algorithm_X\\visualizerV2.py\u001b[0m in \u001b[0;36m__init__\u001b[1;34m(self, cmap, shape, relative_size, relative_pos)\u001b[0m\n\u001b[0;32m     25\u001b[0m         \u001b[0mcolorbar\u001b[0m \u001b[1;33m=\u001b[0m \u001b[1;36m255\u001b[0m \u001b[1;33m*\u001b[0m \u001b[0mnp\u001b[0m\u001b[1;33m.\u001b[0m\u001b[0mrepeat\u001b[0m\u001b[1;33m(\u001b[0m\u001b[0mgradient\u001b[0m\u001b[1;33m,\u001b[0m \u001b[0mself\u001b[0m\u001b[1;33m.\u001b[0m\u001b[0mcb_shape\u001b[0m\u001b[1;33m[\u001b[0m\u001b[1;36m1\u001b[0m\u001b[1;33m]\u001b[0m\u001b[1;33m,\u001b[0m \u001b[0maxis\u001b[0m \u001b[1;33m=\u001b[0m \u001b[1;36m1\u001b[0m\u001b[1;33m)\u001b[0m\u001b[1;33m\u001b[0m\u001b[1;33m\u001b[0m\u001b[0m\n\u001b[0;32m     26\u001b[0m         \u001b[0mself\u001b[0m\u001b[1;33m.\u001b[0m\u001b[0moverlay\u001b[0m \u001b[1;33m=\u001b[0m \u001b[0mnp\u001b[0m\u001b[1;33m.\u001b[0m\u001b[0mzeros\u001b[0m\u001b[1;33m(\u001b[0m\u001b[0mshape\u001b[0m\u001b[1;33m)\u001b[0m\u001b[1;33m\u001b[0m\u001b[1;33m\u001b[0m\u001b[0m\n\u001b[1;32m---> 27\u001b[1;33m         \u001b[0mself\u001b[0m\u001b[1;33m.\u001b[0m\u001b[0moverlay\u001b[0m\u001b[1;33m[\u001b[0m\u001b[0mself\u001b[0m\u001b[1;33m.\u001b[0m\u001b[0mpos\u001b[0m\u001b[1;33m[\u001b[0m\u001b[1;36m0\u001b[0m\u001b[1;33m]\u001b[0m\u001b[1;33m:\u001b[0m \u001b[0mself\u001b[0m\u001b[1;33m.\u001b[0m\u001b[0mpos\u001b[0m\u001b[1;33m[\u001b[0m\u001b[1;36m0\u001b[0m\u001b[1;33m]\u001b[0m \u001b[1;33m+\u001b[0m \u001b[0mself\u001b[0m\u001b[1;33m.\u001b[0m\u001b[0mcb_shape\u001b[0m\u001b[1;33m[\u001b[0m\u001b[1;36m0\u001b[0m\u001b[1;33m]\u001b[0m\u001b[1;33m,\u001b[0m \u001b[0mself\u001b[0m\u001b[1;33m.\u001b[0m\u001b[0mpos\u001b[0m\u001b[1;33m[\u001b[0m\u001b[1;36m1\u001b[0m\u001b[1;33m]\u001b[0m\u001b[1;33m:\u001b[0m \u001b[0mself\u001b[0m\u001b[1;33m.\u001b[0m\u001b[0mpos\u001b[0m\u001b[1;33m[\u001b[0m\u001b[1;36m1\u001b[0m\u001b[1;33m]\u001b[0m \u001b[1;33m+\u001b[0m \u001b[0mself\u001b[0m\u001b[1;33m.\u001b[0m\u001b[0mcb_shape\u001b[0m\u001b[1;33m[\u001b[0m\u001b[1;36m1\u001b[0m\u001b[1;33m]\u001b[0m\u001b[1;33m,\u001b[0m\u001b[1;33m:\u001b[0m\u001b[1;33m]\u001b[0m \u001b[1;33m=\u001b[0m \u001b[0mcolorbar\u001b[0m\u001b[1;33m[\u001b[0m\u001b[1;33m:\u001b[0m\u001b[1;33m,\u001b[0m\u001b[1;33m:\u001b[0m\u001b[1;33m,\u001b[0m\u001b[1;33m:\u001b[0m\u001b[1;33m]\u001b[0m\u001b[1;33m\u001b[0m\u001b[1;33m\u001b[0m\u001b[0m\n\u001b[0m\u001b[0;32m     28\u001b[0m \u001b[1;33m\u001b[0m\u001b[0m\n\u001b[0;32m     29\u001b[0m     \u001b[1;32mdef\u001b[0m \u001b[0m__call__\u001b[0m\u001b[1;33m(\u001b[0m\u001b[0mself\u001b[0m\u001b[1;33m,\u001b[0m \u001b[0mmin_max\u001b[0m\u001b[1;33m)\u001b[0m\u001b[1;33m:\u001b[0m\u001b[1;33m\u001b[0m\u001b[1;33m\u001b[0m\u001b[0m\n",
      "\u001b[1;31mIndexError\u001b[0m: too many indices for array: array is 2-dimensional, but 3 were indexed"
     ]
    }
   ],
   "source": [
    "Indx = 5 #@param {type: \"slider\", min: 1, max: 100}\n",
    "Dump_site = '/' + 'test_%i_'%Indx +str(Max_occlusion)\n",
    "\n",
    "Memory = 15\n",
    "Min_trajctory_lenght = 1\n",
    "\n",
    "tracer.dump_data(Dump_site, Memory, Min_trajctory_lenght)"
   ]
  },
  {
   "cell_type": "code",
   "execution_count": null,
   "metadata": {
    "colab": {
     "base_uri": "https://localhost:8080/",
     "height": 35
    },
    "id": "sDS7fmsKPW0T",
    "outputId": "33edc2ca-1212-46ac-c34d-c3f8b1706e46"
   },
   "outputs": [
    {
     "name": "stderr",
     "output_type": "stream",
     "text": [
      "Loading images : 100%|█████████████████████████████████████████████████████████████| 3000/3000 [00:59<00:00, 50.81it/s]\n"
     ]
    }
   ],
   "source": [
    "from tracer import unzip_images\n",
    "images = unzip_images(Sub_dir)\n"
   ]
  },
  {
   "cell_type": "code",
   "execution_count": 1,
   "metadata": {
    "colab": {
     "base_uri": "https://localhost:8080/",
     "height": 466
    },
    "id": "Tw6UnW5OQRHq",
    "outputId": "f86d2c3f-6ab9-4ba4-9e5d-240c98d13de3"
   },
   "outputs": [
    {
     "ename": "NameError",
     "evalue": "name 'tracer' is not defined",
     "output_type": "error",
     "traceback": [
      "\u001b[1;31m---------------------------------------------------------------------------\u001b[0m",
      "\u001b[1;31mNameError\u001b[0m                                 Traceback (most recent call last)",
      "\u001b[1;32m<ipython-input-1-f6b2d81aa678>\u001b[0m in \u001b[0;36m<module>\u001b[1;34m\u001b[0m\n\u001b[0;32m      1\u001b[0m \u001b[1;32mfrom\u001b[0m \u001b[0mvisualizerV2\u001b[0m \u001b[1;32mimport\u001b[0m \u001b[0mVisualizer\u001b[0m\u001b[1;33m,\u001b[0m \u001b[0mGraph_interpreter\u001b[0m\u001b[1;33m,\u001b[0m \u001b[0mColorbar_overlay\u001b[0m\u001b[1;33m\u001b[0m\u001b[1;33m\u001b[0m\u001b[0m\n\u001b[1;32m----> 2\u001b[1;33m \u001b[0mGI\u001b[0m \u001b[1;33m=\u001b[0m \u001b[0mGraph_interpreter\u001b[0m\u001b[1;33m(\u001b[0m\u001b[0mtracer\u001b[0m\u001b[1;33m.\u001b[0m\u001b[0mgraph\u001b[0m\u001b[1;33m,\u001b[0m \u001b[0mtracer\u001b[0m\u001b[1;33m.\u001b[0m\u001b[0mspecial_nodes\u001b[0m\u001b[1;33m,\u001b[0m \u001b[0mnode_trajectory\u001b[0m\u001b[1;33m)\u001b[0m\u001b[1;33m\u001b[0m\u001b[1;33m\u001b[0m\u001b[0m\n\u001b[0m\u001b[0;32m      3\u001b[0m \u001b[0mV\u001b[0m \u001b[1;33m=\u001b[0m \u001b[0mVisualizer\u001b[0m\u001b[1;33m(\u001b[0m\u001b[0mimages\u001b[0m\u001b[1;33m,\u001b[0m \u001b[0mGI\u001b[0m\u001b[1;33m)\u001b[0m\u001b[1;33m\u001b[0m\u001b[1;33m\u001b[0m\u001b[0m\n\u001b[0;32m      4\u001b[0m \u001b[0mV\u001b[0m\u001b[1;33m.\u001b[0m\u001b[0mShowFamilies\u001b[0m\u001b[1;33m(\u001b[0m\u001b[1;33m)\u001b[0m\u001b[1;33m\u001b[0m\u001b[1;33m\u001b[0m\u001b[0m\n",
      "\u001b[1;31mNameError\u001b[0m: name 'tracer' is not defined"
     ]
    }
   ],
   "source": [
    "from visualizerV2 import Visualizer, Graph_interpreter, Colorbar_overlay\n",
    "GI = Graph_interpreter(tracer.graph, tracer.special_nodes, node_trajectory)\n",
    "V = Visualizer(images, GI)\n",
    "V.ShowFamilies()"
   ]
  },
  {
   "cell_type": "code",
   "execution_count": null,
   "metadata": {
    "colab": {
     "base_uri": "https://localhost:8080/",
     "height": 35
    },
    "id": "HoByIrYpZ75p",
    "outputId": "52a25dbf-e985-45bd-b49c-c5aabef7d8f0"
   },
   "outputs": [
    {
     "data": {
      "text/plain": [
       "[1, 2, 3]"
      ]
     },
     "execution_count": 51,
     "metadata": {
      "tags": []
     },
     "output_type": "execute_result"
    }
   ],
   "source": [
    "[1,2,3,4][:-1]"
   ]
  },
  {
   "cell_type": "code",
   "execution_count": null,
   "metadata": {
    "colab": {
     "base_uri": "https://localhost:8080/",
     "height": 35
    },
    "id": "J2PnYyNCZ-mn",
    "outputId": "d47b2115-8ce1-4dcc-f6ec-ac4282c3941d"
   },
   "outputs": [
    {
     "data": {
      "text/plain": [
       "(988, 532, 3)"
      ]
     },
     "execution_count": 53,
     "metadata": {
      "tags": []
     },
     "output_type": "execute_result"
    }
   ],
   "source": [
    "V.shape"
   ]
  },
  {
   "cell_type": "code",
   "execution_count": 2,
   "metadata": {
    "colab": {
     "base_uri": "https://localhost:8080/",
     "height": 319
    },
    "id": "0Bc29F2YaF09",
    "outputId": "e6acab34-b452-46f8-e37b-073f06bf2830"
   },
   "outputs": [
    {
     "name": "stdout",
     "output_type": "stream",
     "text": [
      "[1024  512]\n"
     ]
    }
   ],
   "source": [
    "from matplotlib import cm\n",
    "cb = Colorbar_overlay(cm.plasma, (1024,512,3))"
   ]
  },
  {
   "cell_type": "code",
   "execution_count": null,
   "metadata": {
    "colab": {
     "base_uri": "https://localhost:8080/",
     "height": 35
    },
    "id": "jX5ZP6rlboIV",
    "outputId": "ab394a3a-643a-416d-b3e2-431b53ce030a"
   },
   "outputs": [
    {
     "data": {
      "text/plain": [
       "[1, 2]"
      ]
     },
     "execution_count": 85,
     "metadata": {
      "tags": []
     },
     "output_type": "execute_result"
    }
   ],
   "source": [
    "[1,2,3,4][:2]"
   ]
  },
  {
   "cell_type": "code",
   "execution_count": null,
   "metadata": {
    "id": "SDzs4SoIc__8"
   },
   "outputs": [],
   "source": []
  }
 ],
 "metadata": {
  "colab": {
   "name": "Copy of Bubble notebook _for_real_data.ipynb",
   "provenance": []
  },
  "kernelspec": {
   "display_name": "Python 3",
   "language": "python",
   "name": "python3"
  },
  "language_info": {
   "codemirror_mode": {
    "name": "ipython",
    "version": 3
   },
   "file_extension": ".py",
   "mimetype": "text/x-python",
   "name": "python",
   "nbconvert_exporter": "python",
   "pygments_lexer": "ipython3",
   "version": "3.8.3"
  }
 },
 "nbformat": 4,
 "nbformat_minor": 1
}
