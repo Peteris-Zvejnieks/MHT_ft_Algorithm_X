{
 "cells": [
  {
   "cell_type": "code",
   "execution_count": null,
   "metadata": {},
   "outputs": [],
   "source": [
    "import matplotlib.pyplot as plt\n",
    "import numpy as np\n",
    "\n",
    "from stat_funcs import new_or_gone_likelihood_func_X, movement_likelihood_func\n",
    "from associator import Associator, asc_condition_particles, comb_constr\n",
    "from optimizer import optimizer\n",
    "from trajectories import node_trajectory_with_stats\n",
    "from tracer import Tracer\n",
    "\n",
    "import glob\n",
    "import os\n",
    "\n",
    "plt.rcParams['figure.dpi'] = 500\n",
    "np.set_printoptions(suppress=True)"
   ]
  },
  {
   "cell_type": "code",
   "execution_count": null,
   "metadata": {},
   "outputs": [],
   "source": [
    "Drive = 'C:\\\\'\n",
    "W_dir = Drive + os.path.join(*(os.getcwd().split('\\\\')[1:-1] + ['Objects']))\n",
    "#W_dir = r'C:\\Users\\FMOF\\Documents\\Work\\Work Drive\\Objects'\n",
    "os.chdir(W_dir)\n",
    "main_dirs = sorted(glob.glob('./*'))"
   ]
  },
  {
   "cell_type": "code",
   "execution_count": null,
   "metadata": {},
   "outputs": [],
   "source": [
    "I = 10\n",
    "J = 0\n",
    "\n",
    "Main_dir = main_dirs[I]\n",
    "sub_dirs = glob.glob(Main_dir + '/*')\n",
    "try: sub_dirs.remove(*glob.glob(Main_dir + '/**.ini'))\n",
    "except: pass\n",
    "Sub_dir  = sub_dirs[J]\n",
    "print(Sub_dir)"
   ]
  },
  {
   "cell_type": "code",
   "execution_count": null,
   "metadata": {},
   "outputs": [],
   "source": [
    "Sig_displacement1   = 8\n",
    "K1                  = 0.4\n",
    "Move    = movement_likelihood_func(Sig_displacement1, K1)\n",
    "\n",
    "A                   = 0.04\n",
    "\n",
    "Boundary            = 15\n",
    "width              = 480\n",
    "New     = new_or_gone_likelihood_func_X(A, Boundary, 1)\n",
    "Gone    = new_or_gone_likelihood_func_X(-A, width - Boundary, 0)\n",
    "\n",
    "Stat_funcs  = [Move, New, Gone]\n",
    "Optimizer   = optimizer(Stat_funcs)"
   ]
  },
  {
   "cell_type": "code",
   "execution_count": null,
   "metadata": {},
   "outputs": [],
   "source": [
    "Max_displ_per_frame = 30\n",
    "Radius_multlplyer  = 3\n",
    "Min_displacement = 3\n",
    "Asc_condition  = asc_condition_particles(Max_displ_per_frame, Radius_multlplyer, Min_displacement)\n",
    "\n",
    "Upsilon = 3\n",
    "Mu_v = 10\n",
    "Max_acc = 5\n",
    "Comb_constr = comb_constr(Upsilon, Mu_v, Max_acc)\n",
    "\n",
    "ASSociator = Associator(Asc_condition, Comb_constr, max_k = 1)"
   ]
  },
  {
   "cell_type": "code",
   "execution_count": null,
   "metadata": {},
   "outputs": [],
   "source": [
    "mu_V       = 10 #@param {type:\"slider\", min:0, max:100}\n",
    "sig_V      = 6 #@param {type:\"slider\", min:0, max:100}\n",
    "r_sig_S    = 0.5 #@param {type:\"slider\", min:0.01, max:1.5, step:0.01}\n",
    "Trajectory_stats = node_trajectory_with_stats(mu_V, sig_V, r_sig_S)"
   ]
  },
  {
   "cell_type": "code",
   "execution_count": null,
   "metadata": {},
   "outputs": [],
   "source": [
    "Max_occlusion = 3\n",
    "Quantile = 0.5\n",
    "tracer = Tracer(ASSociator, Optimizer, Trajectory_stats,\n",
    "                Max_occlusion, Quantile, Sub_dir)\n",
    "Indx = 29\n",
    "Prepend = 'test_new_constr _%i_'%Indx\n",
    "tracer.dump_data('/'+Prepend+str(Max_occlusion), 15, 5)"
   ]
  }
 ],
 "metadata": {
  "kernelspec": {
   "display_name": "Python 3",
   "language": "python",
   "name": "python3"
  },
  "language_info": {
   "codemirror_mode": {
    "name": "ipython",
    "version": 3
   },
   "file_extension": ".py",
   "mimetype": "text/x-python",
   "name": "python",
   "nbconvert_exporter": "python",
   "pygments_lexer": "ipython3",
   "version": "3.8.3"
  },
  "latex_envs": {
   "LaTeX_envs_menu_present": true,
   "autoclose": false,
   "autocomplete": true,
   "bibliofile": "biblio.bib",
   "cite_by": "apalike",
   "current_citInitial": 1,
   "eqLabelWithNumbers": true,
   "eqNumInitial": 1,
   "hotkeys": {
    "equation": "Ctrl-E",
    "itemize": "Ctrl-I"
   },
   "labels_anchors": false,
   "latex_user_defs": false,
   "report_style_numbering": false,
   "user_envs_cfg": false
  }
 },
 "nbformat": 4,
 "nbformat_minor": 4
}
