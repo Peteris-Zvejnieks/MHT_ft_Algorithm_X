{
 "cells": [
  {
   "cell_type": "markdown",
   "metadata": {},
   "source": [
    "## Imports and setup"
   ]
  },
  {
   "cell_type": "code",
   "execution_count": 1,
   "metadata": {},
   "outputs": [],
   "source": [
    "import matplotlib.pyplot as plt\n",
    "import numpy as np\n",
    "\n",
    "from stat_funcs_bubbles import movement_likelihood_func, new_or_gone_likelihood_func, multi_bubble_likelihood_func\n",
    "from associator import Associator, asc_condition, comb_constr\n",
    "from optimizer import optimizer\n",
    "from trajectories import trajectory_stats_v1\n",
    "from tracer import Tracer\n",
    "\n",
    "import glob\n",
    "import os\n",
    "\n",
    "plt.rcParams['figure.dpi'] = 500\n",
    "np.set_printoptions(suppress=True)"
   ]
  },
  {
   "cell_type": "markdown",
   "metadata": {},
   "source": [
    "## Locating all sequences"
   ]
  },
  {
   "cell_type": "code",
   "execution_count": 2,
   "metadata": {},
   "outputs": [
    {
     "name": "stdout",
     "output_type": "stream",
     "text": [
      "0 : .\\Area_Output - 120 1.0 T\n",
      "1 : .\\Area_Output - 120 1.4 T\n",
      "2 : .\\Area_Output - 2D Laminar Field OFF 2D_lm_animation_noField_100\n",
      "3 : .\\Area_Output - 2D Laminar Field OFF 2D_lm_animation_noField_120\n",
      "4 : .\\Empty_directory_tree\n",
      "5 : .\\Field OFF 100 sccm Round I\n",
      "6 : .\\NEUTRONS Field OFF 100 sccm\n",
      "7 : .\\NEUTRONS Field OFF 160 sccm\n",
      "8 : .\\NEUTRONS Field ON 100 sccm\n",
      "9 : .\\NEUTRONS Field ON 160 sccm\n",
      "10 : .\\Particles\n",
      "11 : .\\Round I Field OFF 140 sccm\n",
      "12 : .\\Round I Field OFF 160 sccm v2\n",
      "13 : .\\Round I Field ON 100 sccm\n",
      "14 : .\\Round III Field OFF 120 sccm\n",
      "15 : .\\Round III Field OFF 120 sccm v2\n",
      "16 : .\\Round III HFS 125 mT 120 sccm\n",
      "17 : .\\Round III VFS 125 mT 120 sccm\n",
      "18 : .\\desktop.ini\n"
     ]
    }
   ],
   "source": [
    "Drive = 'C:\\\\'\n",
    "W_dir = Drive + os.path.join(*(os.getcwd().split('\\\\')[1:-1] + ['Objects']))\n",
    "os.chdir(W_dir)\n",
    "main_dirs = sorted(glob.glob('./*'))\n",
    "for i, x in enumerate(main_dirs): print(i, ':',x)"
   ]
  },
  {
   "cell_type": "markdown",
   "metadata": {},
   "source": [
    "## Selecting a sequence"
   ]
  },
  {
   "cell_type": "code",
   "execution_count": 3,
   "metadata": {},
   "outputs": [
    {
     "name": "stdout",
     "output_type": "stream",
     "text": [
      ".\\Area_Output - 2D Laminar Field OFF 2D_lm_animation_noField_120\\Front View\n"
     ]
    }
   ],
   "source": [
    "I = 3\n",
    "J = 0\n",
    "\n",
    "Main_dir = main_dirs[I]\n",
    "sub_dirs = glob.glob(Main_dir + '/*')\n",
    "try: sub_dirs.remove(*glob.glob(Main_dir + '/**.ini'))\n",
    "except: pass\n",
    "Sub_dir  = sub_dirs[J]\n",
    "print(Sub_dir)"
   ]
  },
  {
   "cell_type": "markdown",
   "metadata": {},
   "source": [
    "## Statistical function setup"
   ]
  },
  {
   "cell_type": "code",
   "execution_count": 4,
   "metadata": {},
   "outputs": [],
   "source": [
    "Sig_displacement1 = 50\n",
    "K1       = 0.1\n",
    "Move   = movement_likelihood_func(Sig_displacement1, K1)\n",
    "\n",
    "A = 0.1\n",
    "Boundary= 20\n",
    "Height  = 1208\n",
    "New    = new_or_gone_likelihood_func(A, Boundary, 1)\n",
    "Gone   = new_or_gone_likelihood_func(-A, Height - Boundary, 0)\n",
    "\n",
    "Sig_displacement2 = 100\n",
    "K2 = 0.1\n",
    "\n",
    "Merge  = multi_bubble_likelihood_func(Sig_displacement2, K2, 0)\n",
    "Split  = multi_bubble_likelihood_func(Sig_displacement2, K2, 1)\n",
    "\n",
    "Stat_funcs = [Move, New, Gone, Merge, Split]\n",
    "Optimizer     = optimizer(Stat_funcs)\n",
    "\n",
    "Trajectory_stats = trajectory_stats_v1(60, 30, 0.2)"
   ]
  },
  {
   "cell_type": "markdown",
   "metadata": {},
   "source": [
    "## Associator setup"
   ]
  },
  {
   "cell_type": "code",
   "execution_count": 5,
   "metadata": {},
   "outputs": [],
   "source": [
    "Max_displacement_per_frame = 300\n",
    "Radius_multiplyer = 8\n",
    "Min_displacement  = 50\n",
    "Asc_condition  = asc_condition(Max_displacement_per_frame, Radius_multiplyer, Min_displacement)\n",
    "\n",
    "Upsilon = 0.5\n",
    "Mu_v = 200\n",
    "Max_acc = 10000\n",
    "\n",
    "Comb_constr = comb_constr(Upsilon, Mu_v, Max_acc)\n",
    "ASSociator = Associator(Asc_condition, Comb_constr)"
   ]
  },
  {
   "cell_type": "markdown",
   "metadata": {},
   "source": [
    "## Tracing"
   ]
  },
  {
   "cell_type": "code",
   "execution_count": 6,
   "metadata": {
    "scrolled": true
   },
   "outputs": [
    {
     "name": "stderr",
     "output_type": "stream",
     "text": [
      "Window width- 1: 100%|███████████████████████████████████████████████████████████████| 183/183 [00:06<00:00, 27.73it/s]\n",
      "Window width- 2:   3%|██▏                                                              | 6/183 [00:00<00:02, 59.86it/s]"
     ]
    },
    {
     "name": "stdout",
     "output_type": "stream",
     "text": [
      "Trajectory count: 52\n"
     ]
    },
    {
     "name": "stderr",
     "output_type": "stream",
     "text": [
      "Window width- 2: 100%|███████████████████████████████████████████████████████████████| 183/183 [00:03<00:00, 52.81it/s]\n"
     ]
    },
    {
     "name": "stdout",
     "output_type": "stream",
     "text": [
      "Trajectory count: 49\n"
     ]
    }
   ],
   "source": [
    "Max_occlusion = 2\n",
    "Quantile = 0.05\n",
    "tracer = Tracer(ASSociator, Optimizer, Trajectory_stats, Max_occlusion, Quantile, Sub_dir)"
   ]
  },
  {
   "cell_type": "markdown",
   "metadata": {},
   "source": [
    "## Data dumping"
   ]
  },
  {
   "cell_type": "code",
   "execution_count": 7,
   "metadata": {},
   "outputs": [
    {
     "name": "stderr",
     "output_type": "stream",
     "text": [
      "Loading images : 100%|███████████████████████████████████████████████████████████████| 201/201 [00:09<00:00, 22.01it/s]\n",
      "Drawing families : 28it [00:00, 30.77it/s]\n",
      "Saving: families: 28it [00:00, 132.76it/s]\n",
      "Drawing ID history : 49it [00:00, 325.02it/s]\n",
      "Saving: tracedIDs: 201it [00:01, 107.50it/s]\n",
      "Drawing trajectories : 49it [00:00, 422.92it/s]\n",
      "Saving: trajectories: 49it [00:00, 111.69it/s]\n"
     ]
    }
   ],
   "source": [
    "Indx = 9\n",
    "Prepend = 'test_%i_'%Indx\n",
    "tracer.dump_data('/'+Prepend+str(Max_occlusion), 15, 1)"
   ]
  },
  {
   "cell_type": "code",
   "execution_count": null,
   "metadata": {},
   "outputs": [],
   "source": []
  }
 ],
 "metadata": {
  "kernelspec": {
   "display_name": "Python 3",
   "language": "python",
   "name": "python3"
  },
  "language_info": {
   "codemirror_mode": {
    "name": "ipython",
    "version": 3
   },
   "file_extension": ".py",
   "mimetype": "text/x-python",
   "name": "python",
   "nbconvert_exporter": "python",
   "pygments_lexer": "ipython3",
   "version": "3.8.3"
  }
 },
 "nbformat": 4,
 "nbformat_minor": 4
}
