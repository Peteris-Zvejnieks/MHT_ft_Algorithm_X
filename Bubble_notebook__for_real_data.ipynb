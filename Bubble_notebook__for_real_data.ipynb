{
 "cells": [
  {
   "cell_type": "markdown",
   "metadata": {
    "id": "dQXls1yxMEtJ"
   },
   "source": [
    "## Imports and setup"
   ]
  },
  {
   "cell_type": "code",
   "execution_count": 1,
   "metadata": {
    "id": "lBE5GBf2MEtL"
   },
   "outputs": [],
   "source": [
    "import matplotlib.pyplot as plt\n",
    "import numpy as np\n",
    "\n",
    "from stat_funcs import movement_likelihood_func, new_or_gone_likelihood_func_Y, multi_bubble_likelihood_func\n",
    "from associator import Associator, asc_condition, comb_constr\n",
    "from trajectories import node_trajectory_with_stats\n",
    "from optimizer import optimizer\n",
    "from tracer import Tracer\n",
    "\n",
    "import glob\n",
    "import os\n",
    "\n",
    "plt.rcParams['figure.dpi'] = 500\n",
    "np.set_printoptions(suppress=True)"
   ]
  },
  {
   "cell_type": "markdown",
   "metadata": {
    "id": "mURywAmMMEtU"
   },
   "source": [
    "## Locating all sequences"
   ]
  },
  {
   "cell_type": "code",
   "execution_count": 2,
   "metadata": {
    "colab": {
     "base_uri": "https://localhost:8080/"
    },
    "id": "8FFzwhveMEtY",
    "outputId": "8702b38e-fdbf-4e90-93a4-beff99d21d96"
   },
   "outputs": [
    {
     "name": "stdout",
     "output_type": "stream",
     "text": [
      "0 : .\\Area_Output - 120 1.0 T\n",
      "1 : .\\Area_Output - 120 1.4 T\n",
      "2 : .\\Area_Output - 2D Laminar Field OFF 2D_lm_animation_noField_100\n",
      "3 : .\\Area_Output - 2D Laminar Field OFF 2D_lm_animation_noField_120\n",
      "4 : .\\Empty_directory_tree\n",
      "5 : .\\Field OFF 100 sccm Round I\n",
      "6 : .\\NEUTRONS Field OFF 100 sccm\n",
      "7 : .\\NEUTRONS Field OFF 160 sccm\n",
      "8 : .\\NEUTRONS Field ON 100 sccm\n",
      "9 : .\\NEUTRONS Field ON 160 sccm\n",
      "10 : .\\Particles\n",
      "11 : .\\Round I Field OFF 140 sccm\n",
      "12 : .\\Round I Field OFF 160 sccm v2\n",
      "13 : .\\Round I Field ON 100 sccm\n",
      "14 : .\\Round III Field OFF 120 sccm\n",
      "15 : .\\Round III Field OFF 120 sccm v2\n",
      "16 : .\\Round III HFS 125 mT 120 sccm\n",
      "17 : .\\Round III VFS 125 mT 120 sccm\n",
      "18 : .\\desktop.ini\n"
     ]
    }
   ],
   "source": [
    "Drive = 'C:\\\\'\n",
    "W_dir = Drive + os.path.join(*(os.getcwd().split('\\\\')[1:-1] + ['Objects']))\n",
    "os.chdir(W_dir)\n",
    "main_dirs = sorted(glob.glob('./*'))\n",
    "for i, x in enumerate(main_dirs): print(i, ':',x)"
   ]
  },
  {
   "cell_type": "markdown",
   "metadata": {
    "id": "n8ykt_ffMEtg"
   },
   "source": [
    "## Selecting a sequence"
   ]
  },
  {
   "cell_type": "code",
   "execution_count": 3,
   "metadata": {
    "colab": {
     "base_uri": "https://localhost:8080/",
     "height": 35
    },
    "id": "IZo-bEYFMEti",
    "outputId": "727301f3-b416-407b-bb2a-42bc8ca760de"
   },
   "outputs": [
    {
     "name": "stdout",
     "output_type": "stream",
     "text": [
      ".\\Round III VFS 125 mT 120 sccm\\Front view\n"
     ]
    }
   ],
   "source": [
    "I = 17\n",
    "J = 0\n",
    "\n",
    "Main_dir = main_dirs[I]\n",
    "sub_dirs = glob.glob(Main_dir + '/*')\n",
    "try: sub_dirs.remove(*glob.glob(Main_dir + '/**.ini'))\n",
    "except: pass\n",
    "Sub_dir  = sub_dirs[J]\n",
    "print(Sub_dir)"
   ]
  },
  {
   "cell_type": "code",
   "execution_count": 4,
   "metadata": {
    "cellView": "form",
    "id": "Wa7EYJLZCEPL"
   },
   "outputs": [],
   "source": [
    "#@title Statistical function setup\n",
    "\n",
    "Sig_displacement1   = 50  #@param {type: \"slider\", min: 10, max: 100}\n",
    "K1                  = 0.3 #@param {type:\"slider\", min:0, max:1, step:0.01}\n",
    "Move   = movement_likelihood_func(Sig_displacement1, K1)\n",
    "\n",
    "A                   = 0.1 #@param {type:\"slider\", min:0.01, max:0.5, step:0.01}\n",
    "Boundary            = 20 #@param {type:\"slider\", min:0, max:50}\n",
    "Height              = 919 #@param {type:\"slider\", min:0, max:1500}\n",
    "New    = new_or_gone_likelihood_func_Y(A, Boundary, 1)\n",
    "Gone   = new_or_gone_likelihood_func_Y(-A, Height - Boundary, 0)\n",
    "\n",
    "Sig_displacement2   = 64 #@param {type:\"slider\", min:0, max:150}\n",
    "K2                  = 0.5 #@param {type:\"slider\", min:0, max:1, step:0.01}\n",
    "Merge  = multi_bubble_likelihood_func(Sig_displacement2, K2, 0)\n",
    "Split  = multi_bubble_likelihood_func(Sig_displacement2, K2, 1)\n",
    "\n",
    "Optimizer     = optimizer([Move, New, Gone, Merge, Split])"
   ]
  },
  {
   "cell_type": "markdown",
   "metadata": {
    "id": "KuiJocrhMEtv"
   },
   "source": [
    "## Associator setup"
   ]
  },
  {
   "cell_type": "code",
   "execution_count": 5,
   "metadata": {
    "cellView": "form",
    "id": "CljUpU70Feza"
   },
   "outputs": [],
   "source": [
    "#@title Associator setup\n",
    "\n",
    "Max_displacement_per_frame  = 300  #@param {type: \"slider\", min: 10, max: 500}\n",
    "Radius_multiplyer           = 4 #@param {type:\"slider\", min:1, max:10}\n",
    "Min_displacement            = 30 #@param {type:\"slider\", min:0, max:100}\n",
    "Asc_condition  = asc_condition(Max_displacement_per_frame, Radius_multiplyer, Min_displacement)\n",
    "\n",
    "Upsilon                     = 1.5 #@param {type:\"slider\", min:0.01, max:1.5, step:0.01}\n",
    "Mu_v                        = 300 #@param {type:\"slider\", min:0, max:300}\n",
    "Max_acc                     = 132 #@param {type:\"slider\", min:0, max:300}\n",
    "Comb_constr = comb_constr(Upsilon, Mu_v, Max_acc)\n",
    "\n",
    "ASSociator = Associator(Asc_condition, Comb_constr)"
   ]
  },
  {
   "cell_type": "code",
   "execution_count": 6,
   "metadata": {
    "cellView": "form",
    "id": "-hoe0plcb9wV"
   },
   "outputs": [],
   "source": [
    "#@title Trajectory setup\n",
    "\n",
    "mu_V       = 20 #@param {type:\"slider\", min:0, max:100}\n",
    "sig_V      = 30 #@param {type:\"slider\", min:0, max:100}\n",
    "r_sig_S    = 1.5 #@param {type:\"slider\", min:0.01, max:1.5, step:0.01}\n",
    "node_trajectory = node_trajectory_with_stats(mu_V, sig_V, r_sig_S)"
   ]
  },
  {
   "cell_type": "markdown",
   "metadata": {
    "id": "W-r2RPM-MEt3"
   },
   "source": [
    "## Tracing"
   ]
  },
  {
   "cell_type": "code",
   "execution_count": 7,
   "metadata": {
    "colab": {
     "base_uri": "https://localhost:8080/",
     "height": 127
    },
    "id": "uTzkPh7wMEt3",
    "outputId": "a98c3b6a-84b6-47ee-daeb-9fdae065f71d",
    "scrolled": true
   },
   "outputs": [
    {
     "name": "stderr",
     "output_type": "stream",
     "text": [
      "Window width - 1: 100%|████████████████████████████████████████████████████████████| 2999/2999 [03:45<00:00, 13.28it/s]\n",
      "Window width - 1:   0%|                                                               | 2/2999 [00:00<03:32, 14.14it/s]"
     ]
    },
    {
     "name": "stdout",
     "output_type": "stream",
     "text": [
      "Trajectory count :288\n"
     ]
    },
    {
     "name": "stderr",
     "output_type": "stream",
     "text": [
      "Window width - 1: 100%|████████████████████████████████████████████████████████████| 2999/2999 [03:23<00:00, 14.75it/s]\n",
      "Window width - 2:   0%|                                                               | 2/2999 [00:00<03:29, 14.32it/s]"
     ]
    },
    {
     "name": "stdout",
     "output_type": "stream",
     "text": [
      "Trajectory count :288\n"
     ]
    },
    {
     "name": "stderr",
     "output_type": "stream",
     "text": [
      "Window width - 2: 100%|████████████████████████████████████████████████████████████| 2999/2999 [03:24<00:00, 14.66it/s]\n",
      "Window width - 3:   0%|                                                               | 2/2999 [00:00<03:07, 16.02it/s]"
     ]
    },
    {
     "name": "stdout",
     "output_type": "stream",
     "text": [
      "Trajectory count :199\n"
     ]
    },
    {
     "name": "stderr",
     "output_type": "stream",
     "text": [
      "Window width - 3: 100%|████████████████████████████████████████████████████████████| 2999/2999 [03:27<00:00, 14.47it/s]\n"
     ]
    },
    {
     "name": "stdout",
     "output_type": "stream",
     "text": [
      "Trajectory count :170\n"
     ]
    }
   ],
   "source": [
    "Max_occlusion = 3\n",
    "Quantile = 0.05\n",
    "tracer = Tracer(ASSociator, Optimizer, node_trajectory, Max_occlusion, Quantile, Sub_dir)"
   ]
  },
  {
   "cell_type": "markdown",
   "metadata": {
    "id": "A10VniSBMEt6"
   },
   "source": [
    "## Data dumping"
   ]
  },
  {
   "cell_type": "code",
   "execution_count": 8,
   "metadata": {
    "colab": {
     "base_uri": "https://localhost:8080/",
     "height": 613
    },
    "id": "KZizCEpKMEt7",
    "outputId": "a7a6a183-9f84-438d-d665-e8d7eaf3f570"
   },
   "outputs": [
    {
     "name": "stderr",
     "output_type": "stream",
     "text": [
      "Loading images : 100%|█████████████████████████████████████████████████████████████| 3000/3000 [00:56<00:00, 52.92it/s]\n",
      "Drawing trajectories : 170it [00:02, 78.11it/s]\n",
      "Saving: trajectories: 170it [00:00, 280.66it/s]\n",
      "Drawing families : 166it [00:02, 77.60it/s]\n",
      "Saving: families: 166it [00:00, 197.25it/s]\n",
      "Drawing ID history : 170it [00:00, 557.24it/s]\n",
      "Saving: tracedIDs: 3000it [00:28, 105.24it/s]\n",
      "Drawing velocity history : 170it [00:00, 287.08it/s]\n",
      "Saving: traced_velocities: 3000it [00:22, 131.30it/s]\n"
     ]
    }
   ],
   "source": [
    "Indx = 7 #@param {type: \"slider\", min: 1, max: 100}\n",
    "Dump_site = '/' + 'test_%i_'%Indx +str(Max_occlusion)\n",
    "\n",
    "Memory = 15\n",
    "Min_trajctory_lenght = 1\n",
    "\n",
    "tracer.dump_data(Dump_site, Memory, Min_trajctory_lenght)"
   ]
  }
 ],
 "metadata": {
  "colab": {
   "name": "Copy of Bubble notebook _for_real_data.ipynb",
   "provenance": []
  },
  "kernelspec": {
   "display_name": "Python 3",
   "language": "python",
   "name": "python3"
  },
  "language_info": {
   "codemirror_mode": {
    "name": "ipython",
    "version": 3
   },
   "file_extension": ".py",
   "mimetype": "text/x-python",
   "name": "python",
   "nbconvert_exporter": "python",
   "pygments_lexer": "ipython3",
   "version": "3.8.3"
  },
  "latex_envs": {
   "LaTeX_envs_menu_present": true,
   "autoclose": false,
   "autocomplete": true,
   "bibliofile": "biblio.bib",
   "cite_by": "apalike",
   "current_citInitial": 1,
   "eqLabelWithNumbers": true,
   "eqNumInitial": 1,
   "hotkeys": {
    "equation": "Ctrl-E",
    "itemize": "Ctrl-I"
   },
   "labels_anchors": false,
   "latex_user_defs": false,
   "report_style_numbering": false,
   "user_envs_cfg": false
  }
 },
 "nbformat": 4,
 "nbformat_minor": 1
}
