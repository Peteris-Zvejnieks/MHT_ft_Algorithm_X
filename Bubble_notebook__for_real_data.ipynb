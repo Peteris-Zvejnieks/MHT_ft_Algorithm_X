{
 "cells": [
  {
   "cell_type": "markdown",
   "metadata": {
    "id": "dQXls1yxMEtJ"
   },
   "source": [
    "## Imports and setup"
   ]
  },
  {
   "cell_type": "code",
   "execution_count": 1,
   "metadata": {
    "id": "lBE5GBf2MEtL"
   },
   "outputs": [],
   "source": [
    "import matplotlib.pyplot as plt\n",
    "import numpy as np\n",
    "\n",
    "from stat_funcs import movement_likelihood_func, new_or_gone_likelihood_func_Y, multi_bubble_likelihood_func\n",
    "from associator import Associator, asc_condition, comb_constr\n",
    "from trajectories import node_trajectory_with_stats\n",
    "from optimizer import optimizer\n",
    "from tracer import Tracer\n",
    "\n",
    "import glob\n",
    "import os\n",
    "\n",
    "plt.rcParams['figure.dpi'] = 500\n",
    "np.set_printoptions(suppress=True)"
   ]
  },
  {
   "cell_type": "markdown",
   "metadata": {
    "id": "mURywAmMMEtU"
   },
   "source": [
    "## Locating all sequences"
   ]
  },
  {
   "cell_type": "code",
   "execution_count": 2,
   "metadata": {
    "colab": {
     "base_uri": "https://localhost:8080/"
    },
    "id": "8FFzwhveMEtY",
    "outputId": "8702b38e-fdbf-4e90-93a4-beff99d21d96"
   },
   "outputs": [
    {
     "name": "stdout",
     "output_type": "stream",
     "text": [
      "0 : .\\Area_Output - 120 1.0 T\n",
      "1 : .\\Area_Output - 120 1.4 T\n",
      "2 : .\\Area_Output - 2D Laminar Field OFF 2D_lm_animation_noField_100\n",
      "3 : .\\Area_Output - 2D Laminar Field OFF 2D_lm_animation_noField_120\n",
      "4 : .\\Empty_directory_tree\n",
      "5 : .\\Field OFF 100 sccm Round I\n",
      "6 : .\\NEUTRONS Field OFF 100 sccm\n",
      "7 : .\\NEUTRONS Field OFF 160 sccm\n",
      "8 : .\\NEUTRONS Field ON 100 sccm\n",
      "9 : .\\NEUTRONS Field ON 160 sccm\n",
      "10 : .\\Particles\n",
      "11 : .\\Round I Field OFF 140 sccm\n",
      "12 : .\\Round I Field OFF 160 sccm v2\n",
      "13 : .\\Round I Field ON 100 sccm\n",
      "14 : .\\Round III Field OFF 120 sccm\n",
      "15 : .\\Round III Field OFF 120 sccm v2\n",
      "16 : .\\Round III HFS 125 mT 120 sccm\n",
      "17 : .\\Round III VFS 125 mT 120 sccm\n",
      "18 : .\\desktop.ini\n"
     ]
    }
   ],
   "source": [
    "Drive = 'C:\\\\'\n",
    "W_dir = Drive + os.path.join(*(os.getcwd().split('\\\\')[1:-1] + ['Objects']))\n",
    "os.chdir(W_dir)\n",
    "main_dirs = sorted(glob.glob('./*'))\n",
    "for i, x in enumerate(main_dirs): print(i, ':',x)"
   ]
  },
  {
   "cell_type": "markdown",
   "metadata": {
    "id": "n8ykt_ffMEtg"
   },
   "source": [
    "## Selecting a sequence"
   ]
  },
  {
   "cell_type": "code",
   "execution_count": 3,
   "metadata": {
    "colab": {
     "base_uri": "https://localhost:8080/",
     "height": 35
    },
    "id": "IZo-bEYFMEti",
    "outputId": "727301f3-b416-407b-bb2a-42bc8ca760de"
   },
   "outputs": [
    {
     "name": "stdout",
     "output_type": "stream",
     "text": [
      ".\\Round III VFS 125 mT 120 sccm\\Front view\n"
     ]
    }
   ],
   "source": [
    "I = 17\n",
    "J = 0\n",
    "\n",
    "Main_dir = main_dirs[I]\n",
    "sub_dirs = glob.glob(Main_dir + '/*')\n",
    "try: sub_dirs.remove(*glob.glob(Main_dir + '/**.ini'))\n",
    "except: pass\n",
    "Sub_dir  = sub_dirs[J]\n",
    "print(Sub_dir)"
   ]
  },
  {
   "cell_type": "code",
   "execution_count": 4,
   "metadata": {
    "cellView": "form",
    "id": "Wa7EYJLZCEPL"
   },
   "outputs": [],
   "source": [
    "#@title Statistical function setup\n",
    "\n",
    "Sig_displacement1   = 50  #@param {type: \"slider\", min: 10, max: 100}\n",
    "K1                  = 0.3 #@param {type:\"slider\", min:0, max:1, step:0.01}\n",
    "Move   = movement_likelihood_func(Sig_displacement1, K1)\n",
    "\n",
    "A                   = 0.1 #@param {type:\"slider\", min:0.01, max:0.5, step:0.01}\n",
    "Boundary            = 20 #@param {type:\"slider\", min:0, max:50}\n",
    "Height              = 919 #@param {type:\"slider\", min:0, max:1500}\n",
    "New    = new_or_gone_likelihood_func_Y(A, Boundary, 1)\n",
    "Gone   = new_or_gone_likelihood_func_Y(-A, Height - Boundary, 0)\n",
    "\n",
    "Sig_displacement2   = 64 #@param {type:\"slider\", min:0, max:150}\n",
    "K2                  = 0.5 #@param {type:\"slider\", min:0, max:1, step:0.01}\n",
    "Merge  = multi_bubble_likelihood_func(Sig_displacement2, K2, 0)\n",
    "Split  = multi_bubble_likelihood_func(Sig_displacement2, K2, 1)\n",
    "\n",
    "Optimizer     = optimizer([Move, New, Gone, Merge, Split])"
   ]
  },
  {
   "cell_type": "markdown",
   "metadata": {
    "id": "KuiJocrhMEtv"
   },
   "source": [
    "## Associator setup"
   ]
  },
  {
   "cell_type": "code",
   "execution_count": 5,
   "metadata": {
    "cellView": "form",
    "id": "CljUpU70Feza"
   },
   "outputs": [],
   "source": [
    "#@title Associator setup\n",
    "\n",
    "Max_displacement_per_frame  = 300  #@param {type: \"slider\", min: 10, max: 500}\n",
    "Radius_multiplyer           = 4 #@param {type:\"slider\", min:1, max:10}\n",
    "Min_displacement            = 30 #@param {type:\"slider\", min:0, max:100}\n",
    "Asc_condition  = asc_condition(Max_displacement_per_frame, Radius_multiplyer, Min_displacement)\n",
    "\n",
    "Upsilon                     = 1.5 #@param {type:\"slider\", min:0.01, max:1.5, step:0.01}\n",
    "Mu_v                        = 300 #@param {type:\"slider\", min:0, max:300}\n",
    "Max_acc                     = 132 #@param {type:\"slider\", min:0, max:300}\n",
    "Comb_constr = comb_constr(Upsilon, Mu_v, Max_acc)\n",
    "\n",
    "ASSociator = Associator(Asc_condition, Comb_constr)"
   ]
  },
  {
   "cell_type": "code",
   "execution_count": 6,
   "metadata": {
    "cellView": "form",
    "id": "-hoe0plcb9wV"
   },
   "outputs": [],
   "source": [
    "#@title Trajectory setup\n",
    "\n",
    "mu_V       = 60 #@param {type:\"slider\", min:0, max:100}\n",
    "sig_V      = 30 #@param {type:\"slider\", min:0, max:100}\n",
    "r_sig_S    = 1.5 #@param {type:\"slider\", min:0.01, max:1.5, step:0.01}\n",
    "node_trajectory = node_trajectory_with_stats(mu_V, sig_V, r_sig_S)"
   ]
  },
  {
   "cell_type": "markdown",
   "metadata": {
    "id": "W-r2RPM-MEt3"
   },
   "source": [
    "## Tracing"
   ]
  },
  {
   "cell_type": "code",
   "execution_count": 7,
   "metadata": {
    "colab": {
     "base_uri": "https://localhost:8080/",
     "height": 127
    },
    "id": "uTzkPh7wMEt3",
    "outputId": "a98c3b6a-84b6-47ee-daeb-9fdae065f71d",
    "scrolled": true
   },
   "outputs": [
    {
     "name": "stderr",
     "output_type": "stream",
     "text": [
      "Window width - 1: 100%|████████████████████████████████████████████████████████████| 2999/2999 [03:31<00:00, 14.20it/s]\n"
     ]
    },
    {
     "name": "stdout",
     "output_type": "stream",
     "text": [
      "Trajectory count :288\n"
     ]
    }
   ],
   "source": [
    "Max_occlusion = 2\n",
    "Quantile = 0.1\n",
    "tracer = Tracer(ASSociator, Optimizer, node_trajectory, Max_occlusion, Quantile, Sub_dir)"
   ]
  },
  {
   "cell_type": "markdown",
   "metadata": {
    "id": "A10VniSBMEt6"
   },
   "source": [
    "## Data dumping"
   ]
  },
  {
   "cell_type": "code",
   "execution_count": 8,
   "metadata": {
    "colab": {
     "base_uri": "https://localhost:8080/",
     "height": 613
    },
    "id": "KZizCEpKMEt7",
    "outputId": "a7a6a183-9f84-438d-d665-e8d7eaf3f570"
   },
   "outputs": [
    {
     "name": "stderr",
     "output_type": "stream",
     "text": [
      "Loading images : 100%|█████████████████████████████████████████████████████████████| 3000/3000 [00:59<00:00, 50.38it/s]\n",
      "Drawing families : 284it [00:03, 77.25it/s]\n",
      "Saving: families: 284it [00:01, 165.56it/s]\n",
      "Drawing ID history : 288it [00:00, 1046.28it/s]\n",
      "Saving: tracedIDs: 3000it [00:29, 101.61it/s]\n",
      "Drawing velocities history : 0it [00:00, ?it/s]\n"
     ]
    },
    {
     "ename": "KeyError",
     "evalue": "((792, 2), (793, 2))",
     "output_type": "error",
     "traceback": [
      "\u001b[1;31m---------------------------------------------------------------------------\u001b[0m",
      "\u001b[1;31mKeyError\u001b[0m                                  Traceback (most recent call last)",
      "\u001b[1;32m<ipython-input-8-ec276004b4fa>\u001b[0m in \u001b[0;36m<module>\u001b[1;34m\u001b[0m\n\u001b[0;32m      5\u001b[0m \u001b[0mMin_trajctory_lenght\u001b[0m \u001b[1;33m=\u001b[0m \u001b[1;36m1\u001b[0m\u001b[1;33m\u001b[0m\u001b[1;33m\u001b[0m\u001b[0m\n\u001b[0;32m      6\u001b[0m \u001b[1;33m\u001b[0m\u001b[0m\n\u001b[1;32m----> 7\u001b[1;33m \u001b[0mtracer\u001b[0m\u001b[1;33m.\u001b[0m\u001b[0mdump_data\u001b[0m\u001b[1;33m(\u001b[0m\u001b[0mDump_site\u001b[0m\u001b[1;33m,\u001b[0m \u001b[0mMemory\u001b[0m\u001b[1;33m,\u001b[0m \u001b[0mMin_trajctory_lenght\u001b[0m\u001b[1;33m)\u001b[0m\u001b[1;33m\u001b[0m\u001b[1;33m\u001b[0m\u001b[0m\n\u001b[0m",
      "\u001b[1;32m~\\Documents\\Work\\Work Drive\\MHT_ft_Algorithm_X\\tracer.py\u001b[0m in \u001b[0;36mdump_data\u001b[1;34m(self, sub_folder, memory, smallest_trajectories)\u001b[0m\n\u001b[0;32m    136\u001b[0m         \u001b[0msave_func\u001b[0m\u001b[1;33m(\u001b[0m\u001b[0moutput_path\u001b[0m \u001b[1;33m+\u001b[0m \u001b[1;34m'/families'\u001b[0m\u001b[1;33m,\u001b[0m          \u001b[0mVis\u001b[0m\u001b[1;33m.\u001b[0m\u001b[0mShowFamilies\u001b[0m\u001b[1;33m(\u001b[0m\u001b[1;34m'likelihood'\u001b[0m\u001b[1;33m)\u001b[0m\u001b[1;33m)\u001b[0m\u001b[1;33m\u001b[0m\u001b[1;33m\u001b[0m\u001b[0m\n\u001b[0;32m    137\u001b[0m         \u001b[0msave_func\u001b[0m\u001b[1;33m(\u001b[0m\u001b[0moutput_path\u001b[0m \u001b[1;33m+\u001b[0m \u001b[1;34m'/tracedIDs'\u001b[0m\u001b[1;33m,\u001b[0m         \u001b[0mVis\u001b[0m\u001b[1;33m.\u001b[0m\u001b[0mShowHistory\u001b[0m\u001b[1;33m(\u001b[0m\u001b[0mmemory\u001b[0m\u001b[1;33m,\u001b[0m \u001b[0msmallest_trajectories\u001b[0m\u001b[1;33m,\u001b[0m \u001b[1;34m'ID'\u001b[0m\u001b[1;33m)\u001b[0m\u001b[1;33m)\u001b[0m\u001b[1;33m\u001b[0m\u001b[1;33m\u001b[0m\u001b[0m\n\u001b[1;32m--> 138\u001b[1;33m         \u001b[0msave_func\u001b[0m\u001b[1;33m(\u001b[0m\u001b[0moutput_path\u001b[0m \u001b[1;33m+\u001b[0m \u001b[1;34m'/traced_velocities'\u001b[0m\u001b[1;33m,\u001b[0m \u001b[0mVis\u001b[0m\u001b[1;33m.\u001b[0m\u001b[0mShowHistory\u001b[0m\u001b[1;33m(\u001b[0m\u001b[0mmemory\u001b[0m\u001b[1;33m,\u001b[0m \u001b[0msmallest_trajectories\u001b[0m\u001b[1;33m,\u001b[0m \u001b[1;34m'velocities'\u001b[0m\u001b[1;33m)\u001b[0m\u001b[1;33m)\u001b[0m\u001b[1;33m\u001b[0m\u001b[1;33m\u001b[0m\u001b[0m\n\u001b[0m\u001b[0;32m    139\u001b[0m         \u001b[0msave_func\u001b[0m\u001b[1;33m(\u001b[0m\u001b[0moutput_path\u001b[0m \u001b[1;33m+\u001b[0m \u001b[1;34m'/trajectories'\u001b[0m\u001b[1;33m,\u001b[0m      \u001b[0mVis\u001b[0m\u001b[1;33m.\u001b[0m\u001b[0mShowTrajectories\u001b[0m\u001b[1;33m(\u001b[0m\u001b[1;33m)\u001b[0m\u001b[1;33m)\u001b[0m\u001b[1;33m\u001b[0m\u001b[1;33m\u001b[0m\u001b[0m\n\u001b[0;32m    140\u001b[0m \u001b[1;33m\u001b[0m\u001b[0m\n",
      "\u001b[1;32m~\\Documents\\Work\\Work Drive\\MHT_ft_Algorithm_X\\visualizerV2.py\u001b[0m in \u001b[0;36mShowHistory\u001b[1;34m(self, memory, min_trajectory_size, key)\u001b[0m\n\u001b[0;32m    124\u001b[0m             \u001b[1;32mfor\u001b[0m \u001b[0medge\u001b[0m \u001b[1;32min\u001b[0m \u001b[0mzip\u001b[0m\u001b[1;33m(\u001b[0m\u001b[0mtr\u001b[0m\u001b[1;33m.\u001b[0m\u001b[0mnodes\u001b[0m\u001b[1;33m[\u001b[0m\u001b[1;33m:\u001b[0m\u001b[1;33m-\u001b[0m\u001b[1;36m1\u001b[0m\u001b[1;33m]\u001b[0m\u001b[1;33m,\u001b[0m \u001b[0mtr\u001b[0m\u001b[1;33m.\u001b[0m\u001b[0mnodes\u001b[0m\u001b[1;33m[\u001b[0m\u001b[1;36m1\u001b[0m\u001b[1;33m:\u001b[0m\u001b[1;33m]\u001b[0m\u001b[1;33m)\u001b[0m\u001b[1;33m:\u001b[0m\u001b[1;33m\u001b[0m\u001b[1;33m\u001b[0m\u001b[0m\n\u001b[0;32m    125\u001b[0m                 \u001b[0mt0\u001b[0m \u001b[1;33m=\u001b[0m \u001b[0mint\u001b[0m\u001b[1;33m(\u001b[0m\u001b[0mself\u001b[0m\u001b[1;33m.\u001b[0m\u001b[0mdata\u001b[0m\u001b[1;33m[\u001b[0m\u001b[0medge\u001b[0m\u001b[1;33m[\u001b[0m\u001b[1;36m1\u001b[0m\u001b[1;33m]\u001b[0m\u001b[1;33m]\u001b[0m\u001b[1;33m[\u001b[0m\u001b[1;36m0\u001b[0m\u001b[1;33m]\u001b[0m\u001b[1;33m)\u001b[0m\u001b[1;33m\u001b[0m\u001b[1;33m\u001b[0m\u001b[0m\n\u001b[1;32m--> 126\u001b[1;33m                 \u001b[1;32mif\u001b[0m \u001b[0mkey\u001b[0m \u001b[1;33m!=\u001b[0m \u001b[1;34m'ID'\u001b[0m\u001b[1;33m:\u001b[0m \u001b[0mcolor\u001b[0m \u001b[1;33m=\u001b[0m \u001b[0mself\u001b[0m\u001b[1;33m.\u001b[0m\u001b[0m_map_color\u001b[0m\u001b[1;33m(\u001b[0m\u001b[0mcmap\u001b[0m\u001b[1;33m(\u001b[0m\u001b[0mself\u001b[0m\u001b[1;33m.\u001b[0m\u001b[0m_normalizer\u001b[0m\u001b[1;33m(\u001b[0m\u001b[0mvalues\u001b[0m\u001b[1;33m[\u001b[0m\u001b[0medge\u001b[0m\u001b[1;33m]\u001b[0m\u001b[1;33m,\u001b[0m \u001b[0mmin_max\u001b[0m\u001b[1;33m)\u001b[0m\u001b[1;33m)\u001b[0m\u001b[1;33m)\u001b[0m\u001b[1;33m\u001b[0m\u001b[1;33m\u001b[0m\u001b[0m\n\u001b[0m\u001b[0;32m    127\u001b[0m                 \u001b[1;32mfor\u001b[0m \u001b[0mt\u001b[0m \u001b[1;32min\u001b[0m \u001b[0mrange\u001b[0m\u001b[1;33m(\u001b[0m\u001b[0mt0\u001b[0m\u001b[1;33m,\u001b[0m \u001b[0mmin\u001b[0m\u001b[1;33m(\u001b[0m\u001b[0mlen\u001b[0m\u001b[1;33m(\u001b[0m\u001b[0mimages\u001b[0m\u001b[1;33m)\u001b[0m\u001b[1;33m,\u001b[0m \u001b[0mt0\u001b[0m \u001b[1;33m+\u001b[0m \u001b[0mmemory\u001b[0m\u001b[1;33m)\u001b[0m\u001b[1;33m)\u001b[0m\u001b[1;33m:\u001b[0m \u001b[0mimages\u001b[0m\u001b[1;33m[\u001b[0m\u001b[0mt\u001b[0m \u001b[1;33m-\u001b[0m \u001b[1;36m1\u001b[0m\u001b[1;33m]\u001b[0m \u001b[1;33m=\u001b[0m \u001b[0mself\u001b[0m\u001b[1;33m.\u001b[0m\u001b[0m_draw_edge\u001b[0m\u001b[1;33m(\u001b[0m\u001b[0mimages\u001b[0m\u001b[1;33m[\u001b[0m\u001b[0mt\u001b[0m \u001b[1;33m-\u001b[0m \u001b[1;36m1\u001b[0m\u001b[1;33m]\u001b[0m\u001b[1;33m,\u001b[0m \u001b[0medge\u001b[0m\u001b[1;33m,\u001b[0m \u001b[0mcolor\u001b[0m\u001b[1;33m)\u001b[0m\u001b[1;33m\u001b[0m\u001b[1;33m\u001b[0m\u001b[0m\n\u001b[0;32m    128\u001b[0m         \u001b[1;32mfor\u001b[0m \u001b[0mevent\u001b[0m \u001b[1;32min\u001b[0m \u001b[0mevents\u001b[0m\u001b[1;33m:\u001b[0m\u001b[1;33m\u001b[0m\u001b[1;33m\u001b[0m\u001b[0m\n",
      "\u001b[1;31mKeyError\u001b[0m: ((792, 2), (793, 2))"
     ]
    }
   ],
   "source": [
    "Indx = 5 #@param {type: \"slider\", min: 1, max: 100}\n",
    "Dump_site = '/' + 'test_%i_'%Indx +str(Max_occlusion)\n",
    "\n",
    "Memory = 15\n",
    "Min_trajctory_lenght = 1\n",
    "\n",
    "tracer.dump_data(Dump_site, Memory, Min_trajctory_lenght)"
   ]
  },
  {
   "cell_type": "code",
   "execution_count": null,
   "metadata": {
    "colab": {
     "base_uri": "https://localhost:8080/",
     "height": 35
    },
    "id": "sDS7fmsKPW0T",
    "outputId": "33edc2ca-1212-46ac-c34d-c3f8b1706e46",
    "run_control": {
     "marked": false
    }
   },
   "outputs": [],
   "source": [
    "from tracer import unzip_images\n",
    "images = tracer.images"
   ]
  },
  {
   "cell_type": "code",
   "execution_count": null,
   "metadata": {
    "colab": {
     "base_uri": "https://localhost:8080/",
     "height": 466
    },
    "id": "Tw6UnW5OQRHq",
    "outputId": "f86d2c3f-6ab9-4ba4-9e5d-240c98d13de3",
    "run_control": {
     "marked": false
    }
   },
   "outputs": [],
   "source": [
    "from visualizerV2 import Visualizer, Graph_interpreter, Colorbar_overlay\n",
    "GI = Graph_interpreter(tracer.graph, tracer.special_nodes, node_trajectory)\n",
    "V = Visualizer(images, GI)"
   ]
  },
  {
   "cell_type": "code",
   "execution_count": null,
   "metadata": {},
   "outputs": [],
   "source": [
    "imgs=V.ShowHistory()"
   ]
  },
  {
   "cell_type": "code",
   "execution_count": null,
   "metadata": {},
   "outputs": [],
   "source": [
    "type(imgs)"
   ]
  },
  {
   "cell_type": "code",
   "execution_count": null,
   "metadata": {},
   "outputs": [],
   "source": [
    "import matplotlib.pyplot as plt\n",
    "plt.imshow(imgs[15])"
   ]
  },
  {
   "cell_type": "code",
   "execution_count": null,
   "metadata": {},
   "outputs": [],
   "source": []
  }
 ],
 "metadata": {
  "colab": {
   "name": "Copy of Bubble notebook _for_real_data.ipynb",
   "provenance": []
  },
  "kernelspec": {
   "display_name": "Python 3",
   "language": "python",
   "name": "python3"
  },
  "language_info": {
   "codemirror_mode": {
    "name": "ipython",
    "version": 3
   },
   "file_extension": ".py",
   "mimetype": "text/x-python",
   "name": "python",
   "nbconvert_exporter": "python",
   "pygments_lexer": "ipython3",
   "version": "3.8.3"
  },
  "latex_envs": {
   "LaTeX_envs_menu_present": true,
   "autoclose": false,
   "autocomplete": true,
   "bibliofile": "biblio.bib",
   "cite_by": "apalike",
   "current_citInitial": 1,
   "eqLabelWithNumbers": true,
   "eqNumInitial": 1,
   "hotkeys": {
    "equation": "Ctrl-E",
    "itemize": "Ctrl-I"
   },
   "labels_anchors": false,
   "latex_user_defs": false,
   "report_style_numbering": false,
   "user_envs_cfg": false
  }
 },
 "nbformat": 4,
 "nbformat_minor": 1
}
